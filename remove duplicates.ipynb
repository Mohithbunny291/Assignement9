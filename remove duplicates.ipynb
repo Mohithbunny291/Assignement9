{
 "cells": [
  {
   "cell_type": "code",
   "execution_count": 1,
   "metadata": {},
   "outputs": [
    {
     "name": "stdout",
     "output_type": "stream",
     "text": [
      "{40, 10, 80, 50, 20, 60, 30}\n"
     ]
    }
   ],
   "source": [
    "a=[10,20,30,20,10,50,60,40,80,50,40]\n",
    "\n",
    "dup_items=set()\n",
    "\n",
    "uniq_items=[]\n",
    "\n",
    "for x in a:\n",
    "    \n",
    "    if x not in dup_items:\n",
    "        \n",
    "        uniq_items.append(x)\n",
    "        \n",
    "        dup_items.add(x)\n",
    "        \n",
    "print(dup_items)\n"
   ]
  },
  {
   "cell_type": "code",
   "execution_count": null,
   "metadata": {},
   "outputs": [],
   "source": []
  }
 ],
 "metadata": {
  "kernelspec": {
   "display_name": "Python 3",
   "language": "python",
   "name": "python3"
  },
  "language_info": {
   "codemirror_mode": {
    "name": "ipython",
    "version": 3
   },
   "file_extension": ".py",
   "mimetype": "text/x-python",
   "name": "python",
   "nbconvert_exporter": "python",
   "pygments_lexer": "ipython3",
   "version": "3.8.2"
  }
 },
 "nbformat": 4,
 "nbformat_minor": 4
}
